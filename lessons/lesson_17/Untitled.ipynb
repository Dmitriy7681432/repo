{
 "cells": [
  {
   "cell_type": "code",
   "execution_count": 1,
   "id": "7dcab778",
   "metadata": {},
   "outputs": [
    {
     "name": "stdout",
     "output_type": "stream",
     "text": [
      "                                                                          № п.п.\\tНазвание вакансии\\tАдрес\\tМетро\\tОрганизация\\tЗарплата от\\tЗарплата до\\tВалюта\\tСсылка\n",
      "1\\tJunior business application developer / стаж...  Новодмитровская улица   2к1\\tДмитровская\\tЭКОПСИ Консалтинг\\t-\\t-\\t-\\...                                            \n",
      "2\\tJava Developer\\t-\\t-\\tОрбсофт\\t80000\\t300000... NaN                                                                   NaN                                            \n",
      "3\\tJava-разработчик\\tМосква                         Цветной бульвар         30с1\\tСухаревская\\tHR Prime\\t300000\\t400000\\t...                                            \n",
      "4\\tJava/Kotlin разработчик\\t-\\t-\\tHR Prime\\t550... NaN                                                                   NaN                                            \n"
     ]
    }
   ],
   "source": [
    "import pandas as pd\n",
    "ex = pd.read_csv('example2.csv',encoding='utf-32')\n",
    "print(ex)"
   ]
  }
 ],
 "metadata": {
  "kernelspec": {
   "display_name": "Python 3 (ipykernel)",
   "language": "python",
   "name": "python3"
  },
  "language_info": {
   "codemirror_mode": {
    "name": "ipython",
    "version": 3
   },
   "file_extension": ".py",
   "mimetype": "text/x-python",
   "name": "python",
   "nbconvert_exporter": "python",
   "pygments_lexer": "ipython3",
   "version": "3.9.2"
  }
 },
 "nbformat": 4,
 "nbformat_minor": 5
}
